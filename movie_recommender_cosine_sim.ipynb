{
 "cells": [
  {
   "cell_type": "markdown",
   "metadata": {
    "colab_type": "text",
    "id": "4KmYLQjaFFEm"
   },
   "source": [
    "\n",
    "A quick check to make sure we are using the Google Colab free GPU instead of our local runtime:\n"
   ]
  },
  {
   "cell_type": "code",
   "execution_count": 2,
   "metadata": {
    "colab": {
     "base_uri": "https://localhost:8080/",
     "height": 34
    },
    "colab_type": "code",
    "id": "hRQiXv8_EBqM",
    "outputId": "7115b21b-503d-4716-c22d-79ee23ce8766"
   },
   "outputs": [
    {
     "data": {
      "text/plain": [
       "'/device:GPU:0'"
      ]
     },
     "execution_count": 2,
     "metadata": {
      "tags": []
     },
     "output_type": "execute_result"
    }
   ],
   "source": [
    "import tensorflow as tf \n",
    "tf.test.gpu_device_name()"
   ]
  },
  {
   "cell_type": "markdown",
   "metadata": {
    "colab_type": "text",
    "id": "U4eevEl7FOog"
   },
   "source": [
    "We see the output of '/device:GPU:0', which tells us that the Colab GPU is being used. Good!\n",
    "\n",
    "\n",
    "The next thing to do is import the necessary Python3 libraries:\n",
    "\n"
   ]
  },
  {
   "cell_type": "code",
   "execution_count": 1,
   "metadata": {
    "colab": {
     "base_uri": "https://localhost:8080/",
     "height": 34
    },
    "colab_type": "code",
    "id": "RJ4RRxlBFoHM",
    "outputId": "1319acb3-d0b8-4323-f51c-61af80efb251"
   },
   "outputs": [
    {
     "name": "stdout",
     "output_type": "stream",
     "text": [
      "all libraries successfully imported\n"
     ]
    }
   ],
   "source": [
    "import pandas as pd\n",
    "import numpy as np\n",
    "from sklearn.feature_extraction.text import CountVectorizer\n",
    "from sklearn.metrics.pairwise import cosine_similarity\n",
    "from sklearn.metrics import jaccard_score\n",
    "print(\"all libraries successfully imported\")"
   ]
  },
  {
   "cell_type": "markdown",
   "metadata": {
    "colab_type": "text",
    "id": "FHC0qJE1NrtM"
   },
   "source": [
    "Let us read in a movie dataset and see what types of column values are present:"
   ]
  },
  {
   "cell_type": "code",
   "execution_count": 2,
   "metadata": {
    "colab": {
     "base_uri": "https://localhost:8080/",
     "height": 306
    },
    "colab_type": "code",
    "id": "bEdap7qzEivI",
    "outputId": "d821155a-c99e-4881-d7cb-c21edaea8162"
   },
   "outputs": [
    {
     "name": "stdout",
     "output_type": "stream",
     "text": [
      "   index     budget                                    genres  \\\n",
      "0      0  237000000  Action Adventure Fantasy Science Fiction   \n",
      "1      1  300000000                  Adventure Fantasy Action   \n",
      "2      2  245000000                    Action Adventure Crime   \n",
      "3      3  250000000               Action Crime Drama Thriller   \n",
      "4      4  260000000          Action Adventure Science Fiction   \n",
      "\n",
      "                                       homepage      id  \\\n",
      "0                   http://www.avatarmovie.com/   19995   \n",
      "1  http://disney.go.com/disneypictures/pirates/     285   \n",
      "2   http://www.sonypictures.com/movies/spectre/  206647   \n",
      "3            http://www.thedarkknightrises.com/   49026   \n",
      "4          http://movies.disney.com/john-carter   49529   \n",
      "\n",
      "                                            keywords original_language  \\\n",
      "0  culture clash future space war space colony so...                en   \n",
      "1  ocean drug abuse exotic island east india trad...                en   \n",
      "2         spy based on novel secret agent sequel mi6                en   \n",
      "3  dc comics crime fighter terrorist secret ident...                en   \n",
      "4  based on novel mars medallion space travel pri...                en   \n",
      "\n",
      "                             original_title  \\\n",
      "0                                    Avatar   \n",
      "1  Pirates of the Caribbean: At World's End   \n",
      "2                                   Spectre   \n",
      "3                     The Dark Knight Rises   \n",
      "4                               John Carter   \n",
      "\n",
      "                                            overview  popularity  ... runtime  \\\n",
      "0  In the 22nd century, a paraplegic Marine is di...  150.437577  ...   162.0   \n",
      "1  Captain Barbossa, long believed to be dead, ha...  139.082615  ...   169.0   \n",
      "2  A cryptic message from Bond’s past sends him o...  107.376788  ...   148.0   \n",
      "3  Following the death of District Attorney Harve...  112.312950  ...   165.0   \n",
      "4  John Carter is a war-weary, former military ca...   43.926995  ...   132.0   \n",
      "\n",
      "                                    spoken_languages    status  \\\n",
      "0  [{\"iso_639_1\": \"en\", \"name\": \"English\"}, {\"iso...  Released   \n",
      "1           [{\"iso_639_1\": \"en\", \"name\": \"English\"}]  Released   \n",
      "2  [{\"iso_639_1\": \"fr\", \"name\": \"Fran\\u00e7ais\"},...  Released   \n",
      "3           [{\"iso_639_1\": \"en\", \"name\": \"English\"}]  Released   \n",
      "4           [{\"iso_639_1\": \"en\", \"name\": \"English\"}]  Released   \n",
      "\n",
      "                                          tagline  \\\n",
      "0                     Enter the World of Pandora.   \n",
      "1  At the end of the world, the adventure begins.   \n",
      "2                           A Plan No One Escapes   \n",
      "3                                 The Legend Ends   \n",
      "4            Lost in our world, found in another.   \n",
      "\n",
      "                                      title vote_average vote_count  \\\n",
      "0                                    Avatar          7.2      11800   \n",
      "1  Pirates of the Caribbean: At World's End          6.9       4500   \n",
      "2                                   Spectre          6.3       4466   \n",
      "3                     The Dark Knight Rises          7.6       9106   \n",
      "4                               John Carter          6.1       2124   \n",
      "\n",
      "                                                cast  \\\n",
      "0  Sam Worthington Zoe Saldana Sigourney Weaver S...   \n",
      "1  Johnny Depp Orlando Bloom Keira Knightley Stel...   \n",
      "2  Daniel Craig Christoph Waltz L\\u00e9a Seydoux ...   \n",
      "3  Christian Bale Michael Caine Gary Oldman Anne ...   \n",
      "4  Taylor Kitsch Lynn Collins Samantha Morton Wil...   \n",
      "\n",
      "                                                crew           director  \n",
      "0  [{'name': 'Stephen E. Rivkin', 'gender': 0, 'd...      James Cameron  \n",
      "1  [{'name': 'Dariusz Wolski', 'gender': 2, 'depa...     Gore Verbinski  \n",
      "2  [{'name': 'Thomas Newman', 'gender': 2, 'depar...         Sam Mendes  \n",
      "3  [{'name': 'Hans Zimmer', 'gender': 2, 'departm...  Christopher Nolan  \n",
      "4  [{'name': 'Andrew Stanton', 'gender': 2, 'depa...     Andrew Stanton  \n",
      "\n",
      "[5 rows x 24 columns]\n",
      "\n",
      "Features of the dataset are:\n",
      "\n",
      "Index(['index', 'budget', 'genres', 'homepage', 'id', 'keywords',\n",
      "       'original_language', 'original_title', 'overview', 'popularity',\n",
      "       'production_companies', 'production_countries', 'release_date',\n",
      "       'revenue', 'runtime', 'spoken_languages', 'status', 'tagline', 'title',\n",
      "       'vote_average', 'vote_count', 'cast', 'crew', 'director'],\n",
      "      dtype='object')\n"
     ]
    }
   ],
   "source": [
    "movie_df = pd.read_csv('https://raw.githubusercontent.com/codeheroku/Introduction-to-Machine-Learning/master/Building%20a%20Movie%20Recommendation%20Engine/movie_dataset.csv')\n",
    "print(movie_df.head())\n",
    "print(\"\")\n",
    "print(\"Features of the dataset are:\\n\")\n",
    "print(movie_df.columns)"
   ]
  },
  {
   "cell_type": "markdown",
   "metadata": {
    "colab_type": "text",
    "id": "jnWyuzypI3yl"
   },
   "source": [
    "The meat of this system is about running a cosine similarity function between a given movie that the user is known to like and every other movie in the dataset. \n",
    "\n",
    "The way we will be running the cosine similarity, we need to combine some features together and run the similarity between the combined features. For simplicity, I will manually choose features that I find to be important: *keywords, cast, genres, and director*. \n",
    "\n",
    "Below is a helper function for combining my selected features within a single row."
   ]
  },
  {
   "cell_type": "code",
   "execution_count": 3,
   "metadata": {
    "colab": {},
    "colab_type": "code",
    "id": "l4FBubMVFDXP"
   },
   "outputs": [],
   "source": [
    "features = ['keywords','cast','genres','director']\n",
    "def combine_features(row):\n",
    "    return row['keywords']+\" \"+row['cast']+\" \"+row['genres']+\" \"+row['director']"
   ]
  },
  {
   "cell_type": "markdown",
   "metadata": {
    "colab_type": "text",
    "id": "1WQ8KMKCI4Nu"
   },
   "source": [
    "Let's start pre-processing the data. The first step is to clean invalid feature values, we will just assign empty strings to these. \n",
    "\n",
    "Only problem with this is that if our dataset is bad (eg. too many NaN or empty feature values), then the cosine similarity will pick up on these values and the cosine similarity score will be affected.\n",
    "\n",
    "Next, we need to create a new dataframe with our selected features, along with the dataframe index and titles of all the movies in the original dataframe. We then add a new column called 'combined_features' which will hold the combined Strings of all the features we've selected previously. This column is populated by calling our combined_features function. "
   ]
  },
  {
   "cell_type": "code",
   "execution_count": 4,
   "metadata": {
    "colab": {
     "base_uri": "https://localhost:8080/",
     "height": 153
    },
    "colab_type": "code",
    "id": "tZLRIp6IMQy_",
    "outputId": "1c44d925-8162-4d09-e39f-25aa8d5d2e28"
   },
   "outputs": [
    {
     "name": "stdout",
     "output_type": "stream",
     "text": [
      "                                      title  index  \\\n",
      "0                                    Avatar      0   \n",
      "1  Pirates of the Caribbean: At World's End      1   \n",
      "2                                   Spectre      2   \n",
      "3                     The Dark Knight Rises      3   \n",
      "4                               John Carter      4   \n",
      "\n",
      "                                            keywords  \\\n",
      "0  culture clash future space war space colony so...   \n",
      "1  ocean drug abuse exotic island east india trad...   \n",
      "2         spy based on novel secret agent sequel mi6   \n",
      "3  dc comics crime fighter terrorist secret ident...   \n",
      "4  based on novel mars medallion space travel pri...   \n",
      "\n",
      "                                                cast  \\\n",
      "0  Sam Worthington Zoe Saldana Sigourney Weaver S...   \n",
      "1  Johnny Depp Orlando Bloom Keira Knightley Stel...   \n",
      "2  Daniel Craig Christoph Waltz L\\u00e9a Seydoux ...   \n",
      "3  Christian Bale Michael Caine Gary Oldman Anne ...   \n",
      "4  Taylor Kitsch Lynn Collins Samantha Morton Wil...   \n",
      "\n",
      "                                     genres           director  \\\n",
      "0  Action Adventure Fantasy Science Fiction      James Cameron   \n",
      "1                  Adventure Fantasy Action     Gore Verbinski   \n",
      "2                    Action Adventure Crime         Sam Mendes   \n",
      "3               Action Crime Drama Thriller  Christopher Nolan   \n",
      "4          Action Adventure Science Fiction     Andrew Stanton   \n",
      "\n",
      "                                   combined_features  \n",
      "0  culture clash future space war space colony so...  \n",
      "1  ocean drug abuse exotic island east india trad...  \n",
      "2  spy based on novel secret agent sequel mi6 Dan...  \n",
      "3  dc comics crime fighter terrorist secret ident...  \n",
      "4  based on novel mars medallion space travel pri...  \n"
     ]
    }
   ],
   "source": [
    " #filling all NaNs with blank string\n",
    "for feature in features:\n",
    "    movie_df[feature] = movie_df[feature].fillna('')\n",
    "\n",
    "new_df = pd.DataFrame()\n",
    "\n",
    "new_df[\"title\"] = movie_df[\"title\"]\n",
    "new_df[\"index\"] = movie_df[\"index\"]\n",
    "new_df[\"keywords\"] = movie_df[\"keywords\"]\n",
    "new_df[\"cast\"] = movie_df[\"cast\"]\n",
    "new_df[\"genres\"] = movie_df[\"genres\"]\n",
    "new_df[\"director\"] = movie_df[\"director\"]\n",
    "\n",
    "#applying combined_features() method over each rows of dataframe and storing the combined string in \"combined_features\" column\n",
    "new_df[\"combined_features\"] = new_df.apply(combine_features,axis=1) \n",
    "print(new_df.head())"
   ]
  },
  {
   "cell_type": "markdown",
   "metadata": {
    "colab_type": "text",
    "id": "hhDicb3ROkqH"
   },
   "source": [
    "Now, we need to vectorize the 'combined_features' of our dataframe. I will use CountVectorizer to convert text to word count vectors. After the 'combined_features' values are vectorized, I will perform a cosine similarity function by passing our count_matrix into the cosine_similarity function from sklearn.metrics.pairwise."
   ]
  },
  {
   "cell_type": "code",
   "execution_count": 5,
   "metadata": {
    "colab": {},
    "colab_type": "code",
    "id": "8vUeVesONnv_"
   },
   "outputs": [],
   "source": [
    "#creating new CountVectorizer() object\n",
    "cv = CountVectorizer() \n",
    "\n",
    " #feeding combined strings(movie contents) to CountVectorizer() object\n",
    "count_matrix = cv.fit_transform(new_df[\"combined_features\"])\n",
    "\n",
    "cosine_sim = cosine_similarity(count_matrix)"
   ]
  },
  {
   "cell_type": "markdown",
   "metadata": {
    "colab_type": "text",
    "id": "lQWD-hJcV90b"
   },
   "source": [
    "A couple of helper functions to retrieve index and title values from the dataframe:"
   ]
  },
  {
   "cell_type": "code",
   "execution_count": 6,
   "metadata": {
    "colab": {},
    "colab_type": "code",
    "id": "MmJRVU-MP5ZH"
   },
   "outputs": [],
   "source": [
    "def get_title_from_index(index):\n",
    "    return new_df[new_df.index == index][\"title\"].values[0]\n",
    "def get_index_from_title(title):\n",
    "    return new_df[new_df.title == title][\"index\"].values[0]"
   ]
  },
  {
   "cell_type": "markdown",
   "metadata": {
    "colab_type": "text",
    "id": "7WFDuH7VWaVK"
   },
   "source": [
    "We then find cosine similarity scores between a given movie and every other movie:"
   ]
  },
  {
   "cell_type": "code",
   "execution_count": 11,
   "metadata": {
    "colab": {
     "base_uri": "https://localhost:8080/",
     "height": 54
    },
    "colab_type": "code",
    "id": "49G0HUWyP6q3",
    "outputId": "fa758cbc-e8c9-41d3-d8d3-a6561538d203"
   },
   "outputs": [],
   "source": [
    "movie_user_likes = \"The Dark Knight Rises\"\n",
    "movie_index = get_index_from_title(movie_user_likes)\n",
    "\n",
    "#accessing the row corresponding to given movie to find \n",
    "# all the similarity scores for that movie and then enumerating over it\n",
    "similar_movies = list(enumerate(cosine_sim[movie_index])) \n",
    "sorted_similar_movies = sorted(similar_movies,key=lambda x:x[1],reverse=True)[1:]\n",
    "\n",
    "# print(sorted_similar_movies)"
   ]
  },
  {
   "cell_type": "markdown",
   "metadata": {
    "colab_type": "text",
    "id": "1MwnjCLDdxtI"
   },
   "source": [
    "Finally, let's display the top 15 movies that are similar to what a hypothetical user might like, along with their respective Cosine Similarity values:"
   ]
  },
  {
   "cell_type": "code",
   "execution_count": 12,
   "metadata": {
    "colab": {
     "base_uri": "https://localhost:8080/",
     "height": 323
    },
    "colab_type": "code",
    "id": "Zbioqv23QoLq",
    "outputId": "f3240ce0-cc8f-4fa6-926a-f6fa7f8afdc5"
   },
   "outputs": [
    {
     "name": "stdout",
     "output_type": "stream",
     "text": [
      "Top 15 similar movies to 'The Dark Knight Rises' using Cosine Similarity are:\n",
      "\n",
      "Batman Begins  --  0.73\n",
      "The Dark Knight  --  0.69\n",
      "Amidst the Devil's Wings  --  0.45\n",
      "The Killer Inside Me  --  0.39\n",
      "The Prestige  --  0.38\n",
      "Batman Returns  --  0.36\n",
      "Batman  --  0.35\n",
      "Batman & Robin  --  0.34\n",
      "Kick-Ass  --  0.33\n",
      "RockNRolla  --  0.33\n",
      "Kick-Ass 2  --  0.33\n",
      "Harry Brown  --  0.31\n",
      "In Too Deep  --  0.29\n",
      "Defendor  --  0.29\n",
      "Point Blank  --  0.29\n",
      "Harsh Times  --  0.29\n"
     ]
    }
   ],
   "source": [
    "i=0\n",
    "print(\"Top 15 similar movies to '\"+movie_user_likes+\"' using Cosine Similarity are:\\n\")\n",
    "for element in sorted_similar_movies:\n",
    "    print(get_title_from_index(element[0]), \" -- \", round(element[1], 2))\n",
    "    i=i+1\n",
    "    if i>15:\n",
    "        break"
   ]
  },
  {
   "cell_type": "markdown",
   "metadata": {
    "colab_type": "text",
    "id": "Wekwpw_Zfzp7"
   },
   "source": [
    "**References**\n",
    "\n",
    "1.   Code Heroku. \"Building a Movie Recommendation Engine in Python Using Scikit-learn\". 2019. Accessed from https://medium.com/code-heroku/building-a-movie-recommendation-engine-in-python-using-scikit-learn-c7489d7cb145\n",
    "2. Wikipedia. \"Cosine Similarity\". 2020. Accessed from https://en.wikipedia.org/wiki/Cosine_similarity\n",
    "\n"
   ]
  }
 ],
 "metadata": {
  "accelerator": "GPU",
  "colab": {
   "collapsed_sections": [],
   "name": "movie_recommender_cosine_sim.ipynb",
   "provenance": []
  },
  "kernelspec": {
   "display_name": "Python 3",
   "language": "python",
   "name": "python3"
  },
  "language_info": {
   "codemirror_mode": {
    "name": "ipython",
    "version": 3
   },
   "file_extension": ".py",
   "mimetype": "text/x-python",
   "name": "python",
   "nbconvert_exporter": "python",
   "pygments_lexer": "ipython3",
   "version": "3.7.3"
  }
 },
 "nbformat": 4,
 "nbformat_minor": 1
}
